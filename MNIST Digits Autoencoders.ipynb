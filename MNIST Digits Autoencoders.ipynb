{
 "cells": [
  {
   "cell_type": "markdown",
   "metadata": {},
   "source": [
    "### Scope: \n",
    "- Implementation of Autoencoders For MNIST Digits using Multi Layer Perceptron and as well as using LSTM Cell.\n",
    "- Implementation of Tensorboard for Visualisation, Understanding as well as Tuning of Neural Network.\n",
    "- Please note the above mentioned is implemented using Tensorflow.\n",
    "- Please follow the below link if you want to use Tensorboard in anaconda how to activate and steps needed before implementation.\n",
    "    - https://www.youtube.com/watch?v=-xnScueYpOc&list=PLantUT6vnC9BTLwFDFVMsAWbMHjoItkI-&index=20"
   ]
  },
  {
   "cell_type": "code",
   "execution_count": 1,
   "metadata": {},
   "outputs": [
    {
     "name": "stderr",
     "output_type": "stream",
     "text": [
      "C:\\Users\\Vedant\\Anaconda3\\envs\\TF\\lib\\site-packages\\tensorflow\\python\\framework\\dtypes.py:516: FutureWarning: Passing (type, 1) or '1type' as a synonym of type is deprecated; in a future version of numpy, it will be understood as (type, (1,)) / '(1,)type'.\n",
      "  _np_qint8 = np.dtype([(\"qint8\", np.int8, 1)])\n",
      "C:\\Users\\Vedant\\Anaconda3\\envs\\TF\\lib\\site-packages\\tensorflow\\python\\framework\\dtypes.py:517: FutureWarning: Passing (type, 1) or '1type' as a synonym of type is deprecated; in a future version of numpy, it will be understood as (type, (1,)) / '(1,)type'.\n",
      "  _np_quint8 = np.dtype([(\"quint8\", np.uint8, 1)])\n",
      "C:\\Users\\Vedant\\Anaconda3\\envs\\TF\\lib\\site-packages\\tensorflow\\python\\framework\\dtypes.py:518: FutureWarning: Passing (type, 1) or '1type' as a synonym of type is deprecated; in a future version of numpy, it will be understood as (type, (1,)) / '(1,)type'.\n",
      "  _np_qint16 = np.dtype([(\"qint16\", np.int16, 1)])\n",
      "C:\\Users\\Vedant\\Anaconda3\\envs\\TF\\lib\\site-packages\\tensorflow\\python\\framework\\dtypes.py:519: FutureWarning: Passing (type, 1) or '1type' as a synonym of type is deprecated; in a future version of numpy, it will be understood as (type, (1,)) / '(1,)type'.\n",
      "  _np_quint16 = np.dtype([(\"quint16\", np.uint16, 1)])\n",
      "C:\\Users\\Vedant\\Anaconda3\\envs\\TF\\lib\\site-packages\\tensorflow\\python\\framework\\dtypes.py:520: FutureWarning: Passing (type, 1) or '1type' as a synonym of type is deprecated; in a future version of numpy, it will be understood as (type, (1,)) / '(1,)type'.\n",
      "  _np_qint32 = np.dtype([(\"qint32\", np.int32, 1)])\n",
      "C:\\Users\\Vedant\\Anaconda3\\envs\\TF\\lib\\site-packages\\tensorflow\\python\\framework\\dtypes.py:525: FutureWarning: Passing (type, 1) or '1type' as a synonym of type is deprecated; in a future version of numpy, it will be understood as (type, (1,)) / '(1,)type'.\n",
      "  np_resource = np.dtype([(\"resource\", np.ubyte, 1)])\n",
      "C:\\Users\\Vedant\\Anaconda3\\envs\\TF\\lib\\site-packages\\h5py\\__init__.py:36: FutureWarning: Conversion of the second argument of issubdtype from `float` to `np.floating` is deprecated. In future, it will be treated as `np.float64 == np.dtype(float).type`.\n",
      "  from ._conv import register_converters as _register_converters\n",
      "C:\\Users\\Vedant\\Anaconda3\\envs\\TF\\lib\\site-packages\\tensorboard\\compat\\tensorflow_stub\\dtypes.py:541: FutureWarning: Passing (type, 1) or '1type' as a synonym of type is deprecated; in a future version of numpy, it will be understood as (type, (1,)) / '(1,)type'.\n",
      "  _np_qint8 = np.dtype([(\"qint8\", np.int8, 1)])\n",
      "C:\\Users\\Vedant\\Anaconda3\\envs\\TF\\lib\\site-packages\\tensorboard\\compat\\tensorflow_stub\\dtypes.py:542: FutureWarning: Passing (type, 1) or '1type' as a synonym of type is deprecated; in a future version of numpy, it will be understood as (type, (1,)) / '(1,)type'.\n",
      "  _np_quint8 = np.dtype([(\"quint8\", np.uint8, 1)])\n",
      "C:\\Users\\Vedant\\Anaconda3\\envs\\TF\\lib\\site-packages\\tensorboard\\compat\\tensorflow_stub\\dtypes.py:543: FutureWarning: Passing (type, 1) or '1type' as a synonym of type is deprecated; in a future version of numpy, it will be understood as (type, (1,)) / '(1,)type'.\n",
      "  _np_qint16 = np.dtype([(\"qint16\", np.int16, 1)])\n",
      "C:\\Users\\Vedant\\Anaconda3\\envs\\TF\\lib\\site-packages\\tensorboard\\compat\\tensorflow_stub\\dtypes.py:544: FutureWarning: Passing (type, 1) or '1type' as a synonym of type is deprecated; in a future version of numpy, it will be understood as (type, (1,)) / '(1,)type'.\n",
      "  _np_quint16 = np.dtype([(\"quint16\", np.uint16, 1)])\n",
      "C:\\Users\\Vedant\\Anaconda3\\envs\\TF\\lib\\site-packages\\tensorboard\\compat\\tensorflow_stub\\dtypes.py:545: FutureWarning: Passing (type, 1) or '1type' as a synonym of type is deprecated; in a future version of numpy, it will be understood as (type, (1,)) / '(1,)type'.\n",
      "  _np_qint32 = np.dtype([(\"qint32\", np.int32, 1)])\n",
      "C:\\Users\\Vedant\\Anaconda3\\envs\\TF\\lib\\site-packages\\tensorboard\\compat\\tensorflow_stub\\dtypes.py:550: FutureWarning: Passing (type, 1) or '1type' as a synonym of type is deprecated; in a future version of numpy, it will be understood as (type, (1,)) / '(1,)type'.\n",
      "  np_resource = np.dtype([(\"resource\", np.ubyte, 1)])\n"
     ]
    },
    {
     "data": {
      "text/plain": [
       "'1.14.0'"
      ]
     },
     "execution_count": 1,
     "metadata": {},
     "output_type": "execute_result"
    }
   ],
   "source": [
    "# Importing Required Libraries\n",
    "import tensorflow as tf\n",
    "import numpy as np\n",
    "import pandas as pd\n",
    "import time\n",
    "import matplotlib.pyplot as plt\n",
    "%matplotlib inline\n",
    "import sklearn\n",
    "import tensorboard\n",
    "tf.__version__"
   ]
  },
  {
   "cell_type": "code",
   "execution_count": 2,
   "metadata": {},
   "outputs": [
    {
     "data": {
      "text/plain": [
       "((60000, 28, 28), (60000,), (10000, 28, 28), (10000,))"
      ]
     },
     "execution_count": 2,
     "metadata": {},
     "output_type": "execute_result"
    }
   ],
   "source": [
    "# Loading MNIST Digits\n",
    "(x_train, y_train), (x_test, y_test) = tf.keras.datasets.mnist.load_data()\n",
    "x_train.shape, y_train.shape, x_test.shape, y_test.shape"
   ]
  },
  {
   "cell_type": "code",
   "execution_count": 3,
   "metadata": {},
   "outputs": [
    {
     "data": {
      "text/plain": [
       "((48000, 28, 28), (12000, 28, 28), (48000,), (12000,))"
      ]
     },
     "execution_count": 3,
     "metadata": {},
     "output_type": "execute_result"
    }
   ],
   "source": [
    "# Dividing the MNIST Digits data into Train and Validation\n",
    "from sklearn.model_selection import train_test_split\n",
    "\n",
    "Xtrain, Xvalidation, ytrain, yvalidation = train_test_split(x_train, y_train,stratify=y_train, random_state=42, test_size=0.2)\n",
    "Xtrain.shape, Xvalidation.shape, ytrain.shape, yvalidation.shape"
   ]
  },
  {
   "cell_type": "code",
   "execution_count": 4,
   "metadata": {},
   "outputs": [],
   "source": [
    "Xtrain = Xtrain.reshape(-1, 784)\n",
    "Xvalidation = Xvalidation.reshape(-1,784)\n",
    "\n",
    "Xtrain = np.array(Xtrain)/255\n",
    "Xvalidation = np.array(Xvalidation)/255"
   ]
  },
  {
   "cell_type": "markdown",
   "metadata": {},
   "source": [
    "## NN Architecture\n",
    "![alt text](NNArchitecture.png \"Title\")"
   ]
  },
  {
   "cell_type": "markdown",
   "metadata": {},
   "source": [
    "#### Hyperparameters"
   ]
  },
  {
   "cell_type": "code",
   "execution_count": 5,
   "metadata": {},
   "outputs": [],
   "source": [
    "inputShape = 784\n",
    "outputShape = 784\n",
    "memorySize = [32,32]\n",
    "batchSize = 64\n",
    "numberEpochs = 41\n",
    "learningRate = 0.001"
   ]
  },
  {
   "cell_type": "markdown",
   "metadata": {},
   "source": [
    "### Autoencoders using MLP\n",
    "- Here we are implementing Autoencoder archietecture.  And that has two parts Encoder and Decoder. For Faster calculation, we are having Encoder and Decoder each has one Hidden layer, Hence our architecture will have one input layer two hidden layers and one output layer.\n",
    "- Autoencoders are mainly used for feature selection and or Dimentionaliy reduction as the process goes from the input layer which in our example has 784 neurons which pass through the hidden layer which has 32 neurons so the inputs of 784 neurons (input information) are encoded into 32 neurons (32 feature information) these encoder outputs fed to the decoder which converts 32 feature to 784 features and feeds to the output layer. Once the network is trained and it has learned to generate output from 32 features we can directly use the encoder output for the further operation as its parameters (weight and biases as well as activation functions) are fully updated and capable of consisting of information 784 features into 32 features. "
   ]
  },
  {
   "cell_type": "code",
   "execution_count": 6,
   "metadata": {},
   "outputs": [],
   "source": [
    "\n",
    "tf.reset_default_graph()\n",
    "\n",
    "# Defining Input\n",
    "X = tf.placeholder(dtype=tf.float32, shape= [None, inputShape], name='Input_vector')\n",
    "\n",
    "# Declaring Weights and Biases\n",
    "\n",
    "WWs = {\n",
    "    \n",
    "    'WW1' : tf.Variable(tf.random_normal(shape=[inputShape, memorySize[0]], dtype=tf.float32), name='Weights_1'),\n",
    "    'WW2' : tf.Variable(tf.random_normal(shape=[memorySize[0], memorySize[1]], dtype=tf.float32), name='Weights_2'),\n",
    "    'WW3' : tf.Variable(tf.random_normal(shape=[memorySize[1], outputShape], dtype=tf.float32), name='Weights_3')\n",
    "}\n",
    "\n",
    "bbs = {\n",
    "    'bb1' : tf.Variable(tf.random_normal(shape=[memorySize[0]], dtype=tf.float32), name='Biases_1'),\n",
    "    'bb2' : tf.Variable(tf.random_normal(shape=[memorySize[1]], dtype=tf.float32), name='Biases_2'),\n",
    "    'bb3' : tf.Variable(tf.random_normal(shape=[outputShape], dtype=tf.float32), name='Biases_3')\n",
    "}\n",
    "\n",
    "\n",
    "#tensorboard histograms on summary operations\n",
    "Weights_1 = tf.summary.histogram(\"Weights_1\",WWs['WW1'])\n",
    "Biases_1 = tf.summary.histogram(\"Biases_1\",bbs['bb1'])\n",
    "#tensorboard histograms on summary operations\n",
    "Weights_2 = tf.summary.histogram(\"Weights_2\",WWs['WW2'])\n",
    "Biases_2 = tf.summary.histogram(\"Biases_2\",bbs['bb1'])\n",
    "#tensorboard histograms on summary operations\n",
    "Weights_3 = tf.summary.histogram(\"Weights_3\",WWs['WW3'])\n",
    "Biases_3 = tf.summary.histogram(\"Biases_3\",bbs['bb1'])"
   ]
  },
  {
   "cell_type": "code",
   "execution_count": 7,
   "metadata": {},
   "outputs": [
    {
     "data": {
      "text/plain": [
       "(<tf.Variable 'Weights_1:0' shape=(784, 32) dtype=float32_ref>,\n",
       " <tf.Variable 'Weights_2:0' shape=(32, 32) dtype=float32_ref>,\n",
       " <tf.Variable 'Weights_3:0' shape=(32, 784) dtype=float32_ref>,\n",
       " <tf.Variable 'Biases_1:0' shape=(32,) dtype=float32_ref>,\n",
       " <tf.Variable 'Biases_2:0' shape=(32,) dtype=float32_ref>,\n",
       " <tf.Variable 'Biases_3:0' shape=(784,) dtype=float32_ref>)"
      ]
     },
     "execution_count": 7,
     "metadata": {},
     "output_type": "execute_result"
    }
   ],
   "source": [
    "WWs['WW1'],WWs['WW2'],WWs['WW3'],bbs['bb1'],bbs['bb2'],bbs['bb3']"
   ]
  },
  {
   "cell_type": "code",
   "execution_count": 8,
   "metadata": {},
   "outputs": [
    {
     "data": {
      "text/plain": [
       "(TensorShape([Dimension(None), Dimension(32)]),\n",
       " TensorShape([Dimension(None), Dimension(32)]),\n",
       " TensorShape([Dimension(None), Dimension(784)]))"
      ]
     },
     "execution_count": 8,
     "metadata": {},
     "output_type": "execute_result"
    }
   ],
   "source": [
    "layer1 = tf.nn.sigmoid(tf.add(tf.matmul(X,WWs['WW1']), bbs['bb1']))\n",
    "layer2 = tf.nn.sigmoid(tf.add(tf.matmul(layer1, WWs['WW2']),bbs['bb2']))\n",
    "outPut = tf.nn.sigmoid(tf.add(tf.matmul(layer2, WWs['WW3']), bbs['bb3']))\n",
    "layer1.shape,layer2.shape,outPut.shape"
   ]
  },
  {
   "cell_type": "code",
   "execution_count": 9,
   "metadata": {},
   "outputs": [],
   "source": [
    "trueOutPut = tf.placeholder(dtype=tf.float32, shape=[None, outputShape])\n",
    "loss = tf.reduce_mean(tf.square(outPut - trueOutPut))\n",
    "optimizer = tf.train.AdamOptimizer(learning_rate= learningRate).minimize(loss)"
   ]
  },
  {
   "cell_type": "code",
   "execution_count": 10,
   "metadata": {
    "scrolled": true
   },
   "outputs": [
    {
     "data": {
      "image/png": "[encoded data removed]",
      "text/plain": [
       "<Figure size 432x288 with 1 Axes>"
      ]
     },
     "metadata": {
      "needs_background": "light"
     },
     "output_type": "display_data"
    }
   ],
   "source": [
    "init = tf.global_variables_initializer()\n",
    "sess = tf.Session()\n",
    "writer = tf.summary.FileWriter(\".\\logs\", sess.graph)\n",
    "\n",
    "sess.run(init)\n",
    "epochLoss = []\n",
    "for epoch in range(numberEpochs):\n",
    "    for i in range(Xtrain.shape[0]//batchSize):\n",
    "        Xbatch = Xtrain[i*batchSize:(i+1)*batchSize,:]\n",
    "        predict, c = sess.run([optimizer, loss], feed_dict = { X: Xbatch, trueOutPut: Xbatch})\n",
    "        epochLoss.append(c)\n",
    "        \n",
    "        summaryWeights_1 = sess.run(Weights_1)\n",
    "        summaryWeights_2 = sess.run(Weights_2)\n",
    "        summaryWeights_3 = sess.run(Weights_3)\n",
    "        summaryBiases_1 = sess.run(Biases_1)\n",
    "        summaryBiases_2 = sess.run(Biases_3)\n",
    "        summaryBiases_3 = sess.run(Biases_3)\n",
    "\n",
    "        writer.add_summary(summaryWeights_1, i)\n",
    "        writer.add_summary(summaryWeights_2, i)\n",
    "        writer.add_summary(summaryWeights_3, i)\n",
    "        writer.add_summary(summaryBiases_1, i)\n",
    "        writer.add_summary(summaryBiases_2, i)\n",
    "        writer.add_summary(summaryBiases_3, i)\n",
    "\n",
    "# Plotting Training Loss        \n",
    "plt.plot(epochLoss)\n",
    "plt.title('Training Loss over the Batch and Epochs')\n",
    "plt.ylabel('Loss')\n",
    "plt.xlabel('Batch')\n",
    "plt.show()"
   ]
  },
  {
   "cell_type": "code",
   "execution_count": 11,
   "metadata": {},
   "outputs": [
    {
     "data": {
      "image/png": "[encoded data removed]",
      "text/plain": [
       "<Figure size 432x288 with 1 Axes>"
      ]
     },
     "metadata": {
      "needs_background": "light"
     },
     "output_type": "display_data"
    }
   ],
   "source": [
    "# Generated Image\n",
    "randomRow = np.random.randint(0, high= Xvalidation.shape[0])\n",
    "anyImage = Xvalidation[randomRow,:]\n",
    "ouImage = sess.run(outPut, feed_dict= {X : [anyImage]})\n",
    "plt.imshow(ouImage.reshape(28,28), cmap='Greys')\n",
    "plt.show()"
   ]
  },
  {
   "cell_type": "code",
   "execution_count": 12,
   "metadata": {},
   "outputs": [
    {
     "data": {
      "text/plain": [
       "<matplotlib.image.AxesImage at 0x20e6e63f278>"
      ]
     },
     "execution_count": 12,
     "metadata": {},
     "output_type": "execute_result"
    },
    {
     "data": {
      "image/png": "[encoded data removed]",
      "text/plain": [
       "<Figure size 432x288 with 1 Axes>"
      ]
     },
     "metadata": {
      "needs_background": "light"
     },
     "output_type": "display_data"
    }
   ],
   "source": [
    "# Actual Image\n",
    "plt.imshow(anyImage.reshape(28,28), cmap='Greys')\n",
    "plt.show()"
   ]
  },
  {
   "cell_type": "code",
   "execution_count": 13,
   "metadata": {},
   "outputs": [],
   "source": [
    "sess.close()"
   ]
  },
  {
   "cell_type": "code",
   "execution_count": null,
   "metadata": {},
   "outputs": [],
   "source": []
  },
  {
   "cell_type": "markdown",
   "metadata": {},
   "source": [
    "### Implementation of Autoencoders Using LSTM"
   ]
  },
  {
   "cell_type": "markdown",
   "metadata": {},
   "source": [
    "#### Hyperparameters"
   ]
  },
  {
   "cell_type": "code",
   "execution_count": 14,
   "metadata": {},
   "outputs": [],
   "source": [
    "inputShape = 784\n",
    "outputShape = 784\n",
    "memorySize = [32,32]\n",
    "batchSize = 64\n",
    "numberEpochs = 1\n",
    "learningRate = 0.001"
   ]
  },
  {
   "cell_type": "code",
   "execution_count": 15,
   "metadata": {},
   "outputs": [],
   "source": [
    "tf.reset_default_graph()\n",
    "\n",
    "# Defining Input\n",
    "# LSTM cell requires 3D input\n",
    "XX = tf.placeholder(dtype=tf.float32, shape= [None, inputShape, 1], name='Input_vector')\n",
    "\n",
    "# Declaring Weights and Biases for fully connected layer (decoder and output layer)\n",
    "\n",
    "WWs = {\n",
    "\n",
    "    'WW' : tf.Variable(tf.random_normal(shape=[memorySize[1], 1], dtype=tf.float32, stddev=0.1), name='Weights_3')\n",
    "}\n",
    "\n",
    "bbs = {\n",
    "\n",
    "    'bb' : tf.Variable(tf.random_normal(shape=[1], dtype=tf.float32, stddev=0.1), name='Biases_3')\n",
    "}\n",
    "\n",
    "#tensorboard histograms on summary operations\n",
    "Weights = tf.summary.histogram(\"Weights\",WWs['WW'])\n",
    "Biases = tf.summary.histogram(\"Biases\",bbs['bb'])"
   ]
  },
  {
   "cell_type": "code",
   "execution_count": 16,
   "metadata": {},
   "outputs": [],
   "source": [
    "def lstmStack(Nneurons):\n",
    "    with tf.variable_scope('LSTMCell'):\n",
    "        cells = []\n",
    "        for kk, Nneuron in enumerate(Nneurons):\n",
    "            with tf.variable_scope('RNN_{}'.format(kk)):\n",
    "                cells.append(tf.nn.rnn_cell.LSTMCell(num_units=Nneuron, activation=tf.nn.sigmoid))\n",
    "        stack = tf.nn.rnn_cell.MultiRNNCell(cells)\n",
    "        return stack\n",
    "# or    \n",
    "# lstmCell = tf.contrib.rnn.MultiRNNCell([tf.contrib.rnn.DropoutWrapper(tf.contrib.rnn.LSTMCell(num_units = 32, activation=tf.nn.relu), output_keep_prob=0.7) for _ in range(2)])\n"
   ]
  },
  {
   "cell_type": "code",
   "execution_count": 17,
   "metadata": {},
   "outputs": [
    {
     "name": "stdout",
     "output_type": "stream",
     "text": [
      "WARNING:tensorflow:From <ipython-input-16-a5002ddc0fb3>:6: LSTMCell.__init__ (from tensorflow.python.ops.rnn_cell_impl) is deprecated and will be removed in a future version.\n",
      "Instructions for updating:\n",
      "This class is equivalent as tf.keras.layers.LSTMCell, and will be replaced by that in Tensorflow 2.0.\n",
      "WARNING:tensorflow:From <ipython-input-16-a5002ddc0fb3>:7: MultiRNNCell.__init__ (from tensorflow.python.ops.rnn_cell_impl) is deprecated and will be removed in a future version.\n",
      "Instructions for updating:\n",
      "This class is equivalent as tf.keras.layers.StackedRNNCells, and will be replaced by that in Tensorflow 2.0.\n",
      "WARNING:tensorflow:From <ipython-input-17-eaca5ad14886>:3: dynamic_rnn (from tensorflow.python.ops.rnn) is deprecated and will be removed in a future version.\n",
      "Instructions for updating:\n",
      "Please use `keras.layers.RNN(cell)`, which is equivalent to this API\n",
      "WARNING:tensorflow:Entity <bound method MultiRNNCell.call of <tensorflow.python.ops.rnn_cell_impl.MultiRNNCell object at 0x0000020E6E541048>> could not be transformed and will be executed as-is. Please report this to the AutgoGraph team. When filing the bug, set the verbosity to 10 (on Linux, `export AUTOGRAPH_VERBOSITY=10`) and attach the full output. Cause: converting <bound method MultiRNNCell.call of <tensorflow.python.ops.rnn_cell_impl.MultiRNNCell object at 0x0000020E6E541048>>: AttributeError: module 'gast' has no attribute 'Num'\n",
      "WARNING: Entity <bound method MultiRNNCell.call of <tensorflow.python.ops.rnn_cell_impl.MultiRNNCell object at 0x0000020E6E541048>> could not be transformed and will be executed as-is. Please report this to the AutgoGraph team. When filing the bug, set the verbosity to 10 (on Linux, `export AUTOGRAPH_VERBOSITY=10`) and attach the full output. Cause: converting <bound method MultiRNNCell.call of <tensorflow.python.ops.rnn_cell_impl.MultiRNNCell object at 0x0000020E6E541048>>: AttributeError: module 'gast' has no attribute 'Num'\n",
      "WARNING:tensorflow:From C:\\Users\\Vedant\\Anaconda3\\envs\\TF\\lib\\site-packages\\tensorflow\\python\\ops\\init_ops.py:1251: calling VarianceScaling.__init__ (from tensorflow.python.ops.init_ops) with dtype is deprecated and will be removed in a future version.\n",
      "Instructions for updating:\n",
      "Call initializer instance with the dtype argument instead of passing it to the constructor\n",
      "WARNING:tensorflow:From C:\\Users\\Vedant\\Anaconda3\\envs\\TF\\lib\\site-packages\\tensorflow\\python\\ops\\rnn_cell_impl.py:961: calling Zeros.__init__ (from tensorflow.python.ops.init_ops) with dtype is deprecated and will be removed in a future version.\n",
      "Instructions for updating:\n",
      "Call initializer instance with the dtype argument instead of passing it to the constructor\n",
      "WARNING:tensorflow:Entity <bound method LSTMCell.call of <tensorflow.python.ops.rnn_cell_impl.LSTMCell object at 0x0000020E6E5412E8>> could not be transformed and will be executed as-is. Please report this to the AutgoGraph team. When filing the bug, set the verbosity to 10 (on Linux, `export AUTOGRAPH_VERBOSITY=10`) and attach the full output. Cause: converting <bound method LSTMCell.call of <tensorflow.python.ops.rnn_cell_impl.LSTMCell object at 0x0000020E6E5412E8>>: AttributeError: module 'gast' has no attribute 'Num'\n",
      "WARNING: Entity <bound method LSTMCell.call of <tensorflow.python.ops.rnn_cell_impl.LSTMCell object at 0x0000020E6E5412E8>> could not be transformed and will be executed as-is. Please report this to the AutgoGraph team. When filing the bug, set the verbosity to 10 (on Linux, `export AUTOGRAPH_VERBOSITY=10`) and attach the full output. Cause: converting <bound method LSTMCell.call of <tensorflow.python.ops.rnn_cell_impl.LSTMCell object at 0x0000020E6E5412E8>>: AttributeError: module 'gast' has no attribute 'Num'\n",
      "WARNING:tensorflow:Entity <bound method LSTMCell.call of <tensorflow.python.ops.rnn_cell_impl.LSTMCell object at 0x0000020E6E541438>> could not be transformed and will be executed as-is. Please report this to the AutgoGraph team. When filing the bug, set the verbosity to 10 (on Linux, `export AUTOGRAPH_VERBOSITY=10`) and attach the full output. Cause: converting <bound method LSTMCell.call of <tensorflow.python.ops.rnn_cell_impl.LSTMCell object at 0x0000020E6E541438>>: AttributeError: module 'gast' has no attribute 'Num'\n",
      "WARNING: Entity <bound method LSTMCell.call of <tensorflow.python.ops.rnn_cell_impl.LSTMCell object at 0x0000020E6E541438>> could not be transformed and will be executed as-is. Please report this to the AutgoGraph team. When filing the bug, set the verbosity to 10 (on Linux, `export AUTOGRAPH_VERBOSITY=10`) and attach the full output. Cause: converting <bound method LSTMCell.call of <tensorflow.python.ops.rnn_cell_impl.LSTMCell object at 0x0000020E6E541438>>: AttributeError: module 'gast' has no attribute 'Num'\n"
     ]
    }
   ],
   "source": [
    "lstmCell = lstmStack(Nneurons= [memorySize[0],memorySize[1]])\n",
    "\n",
    "outputs, states = tf.nn.dynamic_rnn(lstmCell, XX, dtype=tf.float32)\n",
    "outPut = tf.nn.sigmoid(tf.add(tf.matmul(outputs, WWs['WW']), bbs['bb']))\n",
    "\n",
    "trueOutPut = tf.placeholder(dtype=tf.float32, shape=[None, outputShape, 1])\n",
    "loss = tf.reduce_mean(tf.square(outPut - trueOutPut))\n",
    "optimizer = tf.train.AdamOptimizer(learning_rate= learningRate).minimize(loss)\n",
    "Xtrain = Xtrain.reshape(-1,inputShape,1)\n",
    "Xvalidation = Xvalidation.reshape(-1,outputShape,1)\n",
    "\n",
    "costAttempt = tf.summary.scalar(\"cost\", loss)"
   ]
  },
  {
   "cell_type": "code",
   "execution_count": 18,
   "metadata": {},
   "outputs": [
    {
     "data": {
      "image/png": "[encoded data removed]",
      "text/plain": [
       "<Figure size 432x288 with 1 Axes>"
      ]
     },
     "metadata": {
      "needs_background": "light"
     },
     "output_type": "display_data"
    }
   ],
   "source": [
    "init = tf.global_variables_initializer()\n",
    "sess = tf.Session()\n",
    "writer = tf.summary.FileWriter(\"c:\\logs\", sess.graph)\n",
    "\n",
    "sess.run(init)\n",
    "epochLoss = []\n",
    "mm = 0\n",
    "for epoch in range(numberEpochs):\n",
    "    for i in range(Xtrain.shape[0]//batchSize):\n",
    "        Xbatch = Xtrain[i*batchSize:(i+1)*batchSize,:,:]\n",
    "        predict, c = sess.run([optimizer, loss], feed_dict = { XX: Xbatch, trueOutPut: Xbatch})\n",
    "        epochLoss.append(c)\n",
    "\n",
    "        summaryWeights = sess.run(Weights)\n",
    "        summaryBiases = sess.run(Biases)\n",
    "        summaryCost = sess.run(costAttempt, feed_dict={ XX: Xbatch, trueOutPut: Xbatch})\n",
    "\n",
    "        writer.add_summary(summaryWeights, i)\n",
    "        writer.add_summary(summaryBiases, i)\n",
    "        writer.add_summary(summaryCost, i)\n",
    "# Plotting Training Loss        \n",
    "plt.plot(epochLoss)\n",
    "plt.title('Training Loss over the Batch and Epochs')\n",
    "plt.ylabel('Loss')\n",
    "plt.xlabel('Batch')\n",
    "plt.show()"
   ]
  },
  {
   "cell_type": "code",
   "execution_count": 19,
   "metadata": {},
   "outputs": [
    {
     "data": {
      "image/png": "[encoded data removed]",
      "text/plain": [
       "<Figure size 432x288 with 1 Axes>"
      ]
     },
     "metadata": {
      "needs_background": "light"
     },
     "output_type": "display_data"
    }
   ],
   "source": [
    "# Generated Image from Autoencoders\n",
    "randomRow = np.random.randint(0, high= Xvalidation.shape[0])\n",
    "anyImage = Xvalidation[randomRow,:,:]\n",
    "ouImage = sess.run(outPut, feed_dict= {XX : [anyImage]})\n",
    "plt.imshow(ouImage.reshape(28,28), cmap='Greys')\n",
    "plt.show()"
   ]
  },
  {
   "cell_type": "code",
   "execution_count": 20,
   "metadata": {},
   "outputs": [
    {
     "data": {
      "image/png": "[encoded data removed]",
      "text/plain": [
       "<Figure size 432x288 with 1 Axes>"
      ]
     },
     "metadata": {
      "needs_background": "light"
     },
     "output_type": "display_data"
    }
   ],
   "source": [
    "# Actual Image\n",
    "plt.imshow(anyImage.reshape(28,28), cmap='Greys')\n",
    "plt.show()"
   ]
  },
  {
   "cell_type": "code",
   "execution_count": 21,
   "metadata": {},
   "outputs": [],
   "source": [
    "sess.close()"
   ]
  },
  {
   "cell_type": "code",
   "execution_count": null,
   "metadata": {},
   "outputs": [],
   "source": []
  },
  {
   "cell_type": "code",
   "execution_count": null,
   "metadata": {},
   "outputs": [],
   "source": []
  },
  {
   "cell_type": "code",
   "execution_count": null,
   "metadata": {},
   "outputs": [],
   "source": []
  }
 ],
 "metadata": {
  "kernelspec": {
   "display_name": "Python 3",
   "language": "python",
   "name": "python3"
  },
  "language_info": {
   "codemirror_mode": {
    "name": "ipython",
    "version": 3
   },
   "file_extension": ".py",
   "mimetype": "text/x-python",
   "name": "python",
   "nbconvert_exporter": "python",
   "pygments_lexer": "ipython3",
   "version": "3.6.10"
  }
 },
 "nbformat": 4,
 "nbformat_minor": 4
}
